{
 "cells": [
  {
   "cell_type": "code",
   "execution_count": 1,
   "metadata": {},
   "outputs": [
    {
     "name": "stdout",
     "output_type": "stream",
     "text": [
      "[ 27.32595273   0.08723368   0.29864641]\n"
     ]
    }
   ],
   "source": [
    "from scipy.optimize import leastsq\n",
    "from scipy.optimize import curve_fit\n",
    "import matplotlib.pyplot as plt\n",
    "import numpy as np\n",
    "\n",
    "#Revenues from The Doctor Movie:\n",
    "t= np.linspace(1.0, 5, num=5) # timeline\n",
    "revenues=np.array([0, 0.10,3,5.2,7]) # revenues in $ millions of dollars\n",
    "c_revenues=np.cumsum(revenues) # cumulative revenues in $ millions of dollars\n",
    "\n",
    "# initial variables(M, P, Q) as estimates (trying several variables)\n",
    "vars = [34.85, 0.07,0.49]\n",
    "\n",
    "# Min Squared Error - Bass Model\n",
    "def Model (vars, t, sales):\n",
    "    M = vars[0]\n",
    "    P = vars[1]\n",
    "    Q = vars[2]\n",
    "    for i in range (len (c_revenues)):\n",
    "        Bass= (P+(Q *(c_revenues[i])/M))*(M - c_revenues[i])\n",
    "    return (Bass - (revenues))\n",
    "          \n",
    "# non linear least square fitting\n",
    "varfinal,success = leastsq(Model, vars, args=(t, revenues))\n",
    "\n",
    "# Estimation of M, P, Q\n",
    "m = varfinal[0]\n",
    "p = varfinal[1]\n",
    "q = varfinal[2]\n",
    "print(varfinal)"
   ]
  },
  {
   "attachments": {},
   "cell_type": "markdown",
   "metadata": {},
   "source": [
    "The parameters to estimate are the following:\t\t\t\t\t\t\t\t\n",
    "m = number of people estimated to eventually watch the movie\t\t\t\t\t\t\t\t\n",
    "q = coefficient of imitation (based on word-of-mouth influences)\t\t\t\t\t\t\t\t\n",
    "p = coefficient of innovation (based on watching the movie without any influence from others. \t\t\t\t\t\t\t\t\n",
    "\t\t\t\t\t\t\t\t\n",
    "The non-linear optimization model consists of minimizing the squared errors (E_t) in which the error is the difference between the forecaseted and actual number of adopters for a specific time period t. \n",
    "\n",
    "We have obtain the following estimates: \n",
    "m = 27.3259\n",
    "p = 0.08723\n",
    "q = 0.29864"
   ]
  },
  {
   "cell_type": "code",
   "execution_count": null,
   "metadata": {
    "collapsed": true
   },
   "outputs": [],
   "source": []
  }
 ],
 "metadata": {
  "kernelspec": {
   "display_name": "Python 3",
   "language": "python",
   "name": "python3"
  },
  "language_info": {
   "codemirror_mode": {
    "name": "ipython",
    "version": 3
   },
   "file_extension": ".py",
   "mimetype": "text/x-python",
   "name": "python",
   "nbconvert_exporter": "python",
   "pygments_lexer": "ipython3",
   "version": "3.6.1"
  }
 },
 "nbformat": 4,
 "nbformat_minor": 2
}
