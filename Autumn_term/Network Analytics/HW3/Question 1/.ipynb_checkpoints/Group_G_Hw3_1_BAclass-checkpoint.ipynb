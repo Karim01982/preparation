{
 "cells": [
  {
   "cell_type": "markdown",
   "metadata": {},
   "source": [
    "# Business Analytics Class Community Detection"
   ]
  },
  {
   "cell_type": "code",
   "execution_count": null,
   "metadata": {
    "collapsed": true
   },
   "outputs": [],
   "source": [
    "from pandas import Series, DataFrame\n",
    "import pandas as pd\n",
    "import networkx as nx\n",
    "import numpy as np\n",
    "import scipy as sp\n",
    "import matplotlib.pyplot as plt\n",
    "import community\n",
    "import igraph\n",
    "from networkx.algorithms.community import centrality\n",
    "import itertools\n",
    "from functools import reduce\n",
    "import collections\n",
    "import seaborn as sns "
   ]
  },
  {
   "cell_type": "code",
   "execution_count": null,
   "metadata": {
    "collapsed": true
   },
   "outputs": [],
   "source": [
    "# create graph\n",
    "avg_mat = pd.read_csv('./HW2_who_talks_to_whom_avg.csv')\n",
    "node_no_dict = {i:str(i+1) for i in list(range(81))}\n",
    "avg_node_list = list()\n",
    "for i in list(range(81)):\n",
    "    for j in list(range(81)):\n",
    "        if avg_mat.iloc[i, j] != 0:\n",
    "            avg_node_list.append([node_no_dict[i], node_no_dict[j], avg_mat.iloc[i, j]])\n",
    "G = nx.Graph()\n",
    "G.add_weighted_edges_from(avg_node_list)"
   ]
  },
  {
   "cell_type": "code",
   "execution_count": null,
   "metadata": {
    "collapsed": true
   },
   "outputs": [],
   "source": [
    "# rough idea of the network\n",
    "k_total = 0\n",
    "\n",
    "data_total = {'edgelist': [avg_node_list[i] for i in list(range(2057))],\n",
    "              'tail': [avg_node_list[i][0] for i in list(range(2057))],\n",
    "              'head': [avg_node_list[i][1] for i in list(range(2057))],\n",
    "              'weight': [avg_node_list[i][2] for i in list(range(2057))],\n",
    "              'num_neighbor': [len(list(G.neighbors(i[0]))) for i in avg_node_list]}\n",
    "node_attr_total = DataFrame(data_total)\n",
    "\n",
    "node_attr_total_draw = DataFrame(columns = ['edgelist', 'tail', 'head', 'weight', 'num_neighbor', 'color'])\n",
    "for i in list(range(2057)):\n",
    "    if node_attr_total['weight'][i] > k_total:\n",
    "        node_attr_total_draw = node_attr_total_draw.append(node_attr_total.loc[i], ignore_index=True)\n",
    "\n",
    "# try to insert the graph \"BAcommunity.png\" in the same folder, instead of the graph below.\n",
    "nx.draw(G, \n",
    "        pos = nx.spring_layout(G, k = 0.6, iterations = 50),\n",
    "        edgelist = list(node_attr_total_draw['edgelist']),\n",
    "        with_labels = True,\n",
    "        node_size = [(len(list(G.neighbors(i))) - 10) * 35 for i in G.nodes()],\n",
    "        edge_color = 'darkgrey',\n",
    "        width = [float(d['weight'] / 18 ) for (u, v, d) in G.edges(data = True)],\n",
    "        alpha = 0.6,\n",
    "        font_size = 10,\n",
    "        arrows = False)\n",
    "plt.show()"
   ]
  },
  {
   "cell_type": "code",
   "execution_count": null,
   "metadata": {
    "collapsed": true
   },
   "outputs": [],
   "source": [
    "# Find a partition that maximizes modularity\n",
    "part = community.best_partition(G)\n",
    "mod = community.modularity(part, G)\n",
    "print(\"modularity: \", mod)\n",
    "\n",
    "\n",
    "# dendrogram - partition at certain level\n",
    "den = community.generate_dendrogram(G)\n",
    "for level in range(len(den)):\n",
    "   print(\"partition at level\", level, \" is \", community.partition_at_level(den, level))\n",
    "print(\"The least partition gives 5 communities.\")"
   ]
  },
  {
   "cell_type": "code",
   "execution_count": null,
   "metadata": {
    "collapsed": true
   },
   "outputs": [],
   "source": [
    "# 2. Plot using networkx where different community households have different colors.  \n",
    "# for 1.(2)\n",
    "# level 0\n",
    "lv0_dict = community.partition_at_level(den, 0)\n",
    "lv0_part_dict = dict()\n",
    "for i in list(set(lv0_dict.values())):\n",
    "    lv0_part_dict[i] = list()\n",
    "    for j in list(lv0_dict.keys()):\n",
    "        if lv0_dict[j] == i:\n",
    "            lv0_part_dict[i].append(j)\n",
    "values = [lv0_dict[node] for node in G.nodes()]\n",
    "pos = nx.spring_layout(G)\n",
    "nx.draw(G, \n",
    "        pos, \n",
    "        cmap = plt.get_cmap('jet'), \n",
    "        node_color = values, \n",
    "        node_size = 300, \n",
    "        alpha = 0.6,\n",
    "        edge_color = 'lightgray',\n",
    "        with_labels = True)\n",
    "plt.title('BA Community - Louvain Partition lv0')\n",
    "plt.show()"
   ]
  },
  {
   "cell_type": "code",
   "execution_count": null,
   "metadata": {
    "collapsed": true
   },
   "outputs": [],
   "source": [
    "for i in list(lv0_part_dict.keys()):\n",
    "    print(\"The \" + str(int(i)+1) + \"th community contains \" + str(len(lv0_part_dict[i])) + \" nodes: \" + str(lv0_part_dict[i]) + \". \\n\")"
   ]
  },
  {
   "cell_type": "code",
   "execution_count": null,
   "metadata": {
    "collapsed": true
   },
   "outputs": [],
   "source": [
    "# level 1\n",
    "lv1_dict = community.partition_at_level(den, 1)\n",
    "lv1_part_dict = dict()\n",
    "for i in list(set(lv1_dict.values())):\n",
    "    lv1_part_dict[i] = list()\n",
    "    for j in list(lv1_dict.keys()):\n",
    "        if lv1_dict[j] == i:\n",
    "            lv1_part_dict[i].append(j)\n",
    "values = [lv1_dict[node] for node in G.nodes()]\n",
    "pos = nx.spring_layout(G)\n",
    "nx.draw(G, \n",
    "        pos, \n",
    "        cmap = plt.get_cmap('jet'), \n",
    "        node_color = values, \n",
    "        node_size = 300, \n",
    "        alpha = 0.6,\n",
    "        edge_color = 'lightgray',\n",
    "        with_labels = True)\n",
    "plt.title('BA Community - Louvain Partition lv1')\n",
    "plt.show()"
   ]
  },
  {
   "cell_type": "code",
   "execution_count": null,
   "metadata": {
    "collapsed": true
   },
   "outputs": [],
   "source": [
    "for i in list(lv1_part_dict.keys()):\n",
    "    print(\"The \" + str(int(i)+1) + \"th community contains \" + str(len(lv1_part_dict[i])) + \" nodes: \" + str(lv1_part_dict[i]) + \". \\n\")"
   ]
  }
 ],
 "metadata": {
  "kernelspec": {
   "display_name": "Python 3",
   "language": "python",
   "name": "python3"
  },
  "language_info": {
   "codemirror_mode": {
    "name": "ipython",
    "version": 3
   },
   "file_extension": ".py",
   "mimetype": "text/x-python",
   "name": "python",
   "nbconvert_exporter": "python",
   "pygments_lexer": "ipython3",
   "version": "3.6.3"
  }
 },
 "nbformat": 4,
 "nbformat_minor": 2
}
