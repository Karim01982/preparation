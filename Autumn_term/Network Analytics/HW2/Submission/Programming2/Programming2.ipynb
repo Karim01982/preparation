{
 "cells": [
  {
   "cell_type": "markdown",
   "metadata": {},
   "source": [
    "# Network Analytics Homework 2 - Programming 2\n",
    "\n",
    "Group G: Joanna Andari, Karim Awad, Jiye Ren, Nirbhay Sharma, Qiuyue Zhang, Xiaoyan Zhou"
   ]
  },
  {
   "cell_type": "markdown",
   "metadata": {},
   "source": [
    "2.[10 or 15 points] The data HW2_tsp.txt contains latitude and longitude data of 38 cities in a country in Africa (Djibouti). Calculate the distance matrix (use an approximation like here which is quite accurate for short distances; or use packages like haversine or geopy). The x and y-cordinates are the latitude and longitude in decimal form multiplied by 1000. EUC_2D means take these as Cc. [Challenge problem., 10 points] The most powerful integer programming solver is Gurobi (along with CPLEX). They give a free one year license if you download and install from a University IP address. Use the most powerful computer you have in your group (cores and memory).artesian co-ordinates. Can also use haversine treating them as longitude and latitude. You are free to use any other functions you find."
   ]
  },
  {
   "cell_type": "code",
   "execution_count": 1,
   "metadata": {
    "collapsed": false
   },
   "outputs": [
    {
     "ename": "ModuleNotFoundError",
     "evalue": "No module named 'gurobipy'",
     "output_type": "error",
     "traceback": [
      "\u001b[0;31m---------------------------------------------------------------------------\u001b[0m",
      "\u001b[0;31mModuleNotFoundError\u001b[0m                       Traceback (most recent call last)",
      "\u001b[0;32m<ipython-input-1-e8b82cb43a62>\u001b[0m in \u001b[0;36m<module>\u001b[0;34m()\u001b[0m\n\u001b[1;32m      4\u001b[0m \u001b[0;32mimport\u001b[0m \u001b[0mmatplotlib\u001b[0m\u001b[0;34m.\u001b[0m\u001b[0mpyplot\u001b[0m \u001b[0;32mas\u001b[0m \u001b[0mplt\u001b[0m\u001b[0;34m\u001b[0m\u001b[0m\n\u001b[1;32m      5\u001b[0m \u001b[0;32mfrom\u001b[0m \u001b[0mhaversine\u001b[0m \u001b[0;32mimport\u001b[0m \u001b[0mhaversine\u001b[0m\u001b[0;34m\u001b[0m\u001b[0m\n\u001b[0;32m----> 6\u001b[0;31m \u001b[0;32mfrom\u001b[0m \u001b[0mgurobipy\u001b[0m \u001b[0;32mimport\u001b[0m \u001b[0;34m*\u001b[0m\u001b[0;34m\u001b[0m\u001b[0m\n\u001b[0m\u001b[1;32m      7\u001b[0m \u001b[0;32mfrom\u001b[0m \u001b[0mmpl_toolkits\u001b[0m\u001b[0;34m.\u001b[0m\u001b[0mbasemap\u001b[0m \u001b[0;32mimport\u001b[0m \u001b[0mBasemap\u001b[0m\u001b[0;34m\u001b[0m\u001b[0m\n\u001b[1;32m      8\u001b[0m \u001b[0;32mimport\u001b[0m \u001b[0mnetworkx\u001b[0m \u001b[0;32mas\u001b[0m \u001b[0mnx\u001b[0m\u001b[0;34m\u001b[0m\u001b[0m\n",
      "\u001b[0;31mModuleNotFoundError\u001b[0m: No module named 'gurobipy'"
     ]
    }
   ],
   "source": [
    "# IMPORTING THE PACKAGES\n",
    "import numpy as np\n",
    "import pandas as pd\n",
    "import matplotlib.pyplot as plt\n",
    "from haversine import haversine\n",
    "from gurobipy import *\n",
    "from mpl_toolkits.basemap import Basemap\n",
    "import networkx as nx\n",
    "%matplotlib inline"
   ]
  },
  {
   "cell_type": "markdown",
   "metadata": {},
   "source": [
    "a. Plot the latitude and longitude as a scatter plot using a drawing package (some options are: matplotlib basemap toolkit (the most advanced, but also the most difficult to use), geopy, gmplot, plotly …)."
   ]
  },
  {
   "cell_type": "code",
   "execution_count": null,
   "metadata": {
    "collapsed": true
   },
   "outputs": [],
   "source": [
    "# CREATING THE CITIES DATAFRAME\n",
    "# storing the path of the data file\n",
    "raw_data = r'./HW2_tsp.txt'\n",
    "# creating the dataframe\n",
    "dj_tsp_df = pd.read_table(raw_data, header=None, skiprows=10, sep=\" \")\n",
    "# renaming the columns, and dropping the no.\n",
    "dj_tsp_df.columns = ['no.','latitude','longitude']\n",
    "dj_tsp_df = dj_tsp_df.drop(columns=['no.'])\n",
    "dj_tsp_df = dj_tsp_df[['longitude','latitude']]\n",
    "# dividing coordinates by 1,000\n",
    "dj_tsp_df = dj_tsp_df[['longitude','latitude']]/1000\n",
    "\n",
    "# CREATING NUMPY ARRAY WITH DISTANCES BETWEEN CITIES\n",
    "# creating an empty numpy array\n",
    "dj_dist_matrix = np.zeros((len(dj_tsp_df),len(dj_tsp_df)))\n",
    "# populating the array by calculating distances between provided coordinates using Haversine function\n",
    "for i in range(len(dj_tsp_df)):\n",
    "    for j in range(len(dj_tsp_df)):\n",
    "        dj_dist_matrix[i,j] = haversine((dj_tsp_df['latitude'][i], dj_tsp_df['longitude'][i]) , (dj_tsp_df['latitude'][j],dj_tsp_df['longitude'][j]))\n",
    "\n",
    "# CREATING VARIABLES THAT STORE LATITUDE AND LONGITUDE VALUES\n",
    "lat = dj_tsp_df['latitude'].values.tolist()\n",
    "long = dj_tsp_df['longitude'].values.tolist()\n",
    "\n",
    "# PLOTTING THE POINTS ON GRAPH\n",
    "plt.figure(figsize=(12,12))\n",
    "plt.scatter(long, lat, s=50, color='red')"
   ]
  },
  {
   "cell_type": "code",
   "execution_count": null,
   "metadata": {
    "collapsed": true
   },
   "outputs": [],
   "source": [
    "# PLOTTING THE POINTS ON THE MAP\n",
    "# creating variables for latitude and longitude lines\n",
    "parallels = np.arange(0,40, 0.5)\n",
    "meridians = np.arange(10,50, 0.5)\n",
    "# creating the map using an image service\n",
    "plt.figure(figsize=(12,12))\n",
    "dj_map = Basemap(llcrnrlon=41.75, llcrnrlat=10.94, urcrnrlon=43.4, urcrnrlat=12.72, epsg=4713)\n",
    "dj_map.arcgisimage(service='ESRI_Imagery_World_2D', xpixels = 2000, verbose= False)\n",
    "# plotting the points\n",
    "for i in list(range(len(dj_tsp_df))):\n",
    "    x, y = dj_map(float(long[i]), float(lat[i]))\n",
    "    dj_map.plot(x, y, marker = 'o', markeredgecolor='black', markersize=10, color = 'red')\n",
    "# drawing latitude and longitude lines\n",
    "dj_map.drawparallels(parallels,labels=[True,True,True,True])\n",
    "dj_map.drawmeridians(meridians,labels=[True,True,True,True])\n",
    "plt.show()"
   ]
  },
  {
   "cell_type": "markdown",
   "metadata": {},
   "source": [
    "c. [Challenge problem., 10 points] Connect with the Python interface of Gurobi and find an optimal tour using the sub-tour elimination integer programming formulation we did in class."
   ]
  },
  {
   "cell_type": "code",
   "execution_count": null,
   "metadata": {
    "collapsed": true
   },
   "outputs": [],
   "source": [
    "# ==================== Part (i) ====================\n",
    "# defining variables for use\n",
    "n = len(dj_tsp_df)\n",
    "lat_long = dj_tsp_df.values.tolist()\n",
    "\n",
    "# CREATING CITIES DICTIONARY\n",
    "index = list(range(0, n))\n",
    "cities_dict = {k: v for k, v in zip(index, lat_long)}\n",
    "\n",
    "# CREATING A GUROBI MODEL\n",
    "mod1 = Model()\n",
    "\n",
    "# CREATE VARIABLES    \n",
    "vars = {}\n",
    "for i in range(n):\n",
    "   for j in range(i+1):\n",
    "     vars[i,j] = mod1.addVar(obj=dj_dist_matrix[i,j], vtype=GRB.BINARY,\n",
    "                          name='e'+str(i)+'_'+str(j))\n",
    "     vars[j,i] = vars[i,j]\n",
    "   mod1.update()\n",
    "   \n",
    "# ADDING DEGREE CONSTRAINTS\n",
    "for i in range(n):\n",
    "  mod1.addConstr(quicksum(vars[i,j] for j in range(n)) == 2)\n",
    "  vars[i,i].ub = 0\n",
    "\n",
    "# OPTIMIZING THE MODEL\n",
    "mod1.optimize()\n",
    "\n",
    "# GETTING SELECTED NODES FROM THE SOLUTION\n",
    "solution1 = mod1.getAttr('x', vars)\n",
    "selected1 = [(i,j) for i in range(n) for j in range(n) if solution1[i,j] > 0.5]\n",
    "\n",
    "# CONVERTING SELECTED NODES TO A LIST\n",
    "for i in range(len(selected1)):\n",
    "    selected1[i] = list(selected1[i])\n",
    "\n",
    "# CREATING EDGES TO PLOT\n",
    "# creating a pandas dataframe of the distance matrix\n",
    "dj_df1 = pd.DataFrame(dj_dist_matrix)\n",
    "# creating a edges dataframe \n",
    "edges = dj_df1.stack().reset_index()\n",
    "edges.columns = ['node1', 'node2','weight']\n",
    "\n",
    "# PLOTTING THE GRAPH WITH SUBTOURS\n",
    "# building the graph\n",
    "dj_G1 = nx.from_pandas_dataframe(edges, 'node1', 'node2')\n",
    "# adding nodes and edges to the plot \n",
    "plt.figure(figsize=(12,12))\n",
    "nx.draw_networkx_nodes(dj_G1, with_labels = True, node_size = 80, font_size = 8, pos=cities_dict, color='red')\n",
    "nx.draw_networkx_edges(dj_G1, pos=cities_dict, edgelist = selected1)"
   ]
  },
  {
   "cell_type": "code",
   "execution_count": null,
   "metadata": {
    "collapsed": true
   },
   "outputs": [],
   "source": [
    "# ==================== Part (ii) and (iii) ====================\n",
    "\n",
    "# FUNCTION TO ELIMINATE THE SUB-TOURS\n",
    "def subtourelim(model, where):    \n",
    "    if where == GRB.callback.MIPSOL:\n",
    "        selected_edges = []\n",
    "        \n",
    "        # creating a list of edges selected in the solution\n",
    "        for i in range(len(dj_dist_matrix)):\n",
    "            solution_sub = model.cbGetSolution([model._vars[i,j] for j in range(len(dj_dist_matrix))])\n",
    "            selected_edges += [(i,j) for j in range(len(dj_dist_matrix)) if solution_sub[j] > 0.5]\n",
    "    \n",
    "        # finding the shortest cycle in the selected edge list\n",
    "        tour = subtour(selected_edges)\n",
    "        if len(tour) < len(dj_dist_matrix):\n",
    "            # adding sub-tour elimination constraint\n",
    "            expr = 0\n",
    "            for i in range(len(tour)):\n",
    "                for j in range(i+1, len(tour)):\n",
    "                    expr += model._vars[tour[i], tour[j]]\n",
    "            model.cbLazy(expr <= len(tour)-1)\n",
    "\n",
    "\n",
    "# FUNCTION TO FIND THE SHORTEST SUB-TOUR GIVEN A LIST OF TOURS\n",
    "def subtour(edges):\n",
    "    visited = [False]*len(dj_dist_matrix)\n",
    "    cycles = []\n",
    "    lengths = []\n",
    "    selected = [[] for i in range(len(dj_dist_matrix))]\n",
    "    for x,y in edges:\n",
    "        selected[x].append(y)\n",
    "    while True:\n",
    "        current = visited.index(False)\n",
    "        thiscycle = [current]\n",
    "        while True:\n",
    "            visited[current] = True\n",
    "            neighbors = [x for x in selected[current] if not visited[x]]\n",
    "            if len(neighbors) == 0:\n",
    "                break\n",
    "            current = neighbors[0]\n",
    "            thiscycle.append(current)\n",
    "        cycles.append(thiscycle)\n",
    "        lengths.append(len(thiscycle))\n",
    "        if sum(lengths) == len(dj_dist_matrix):\n",
    "            break\n",
    "    return cycles[lengths.index(min(lengths))]\n",
    "\n",
    "# CREATING A GUROBI MODEL\n",
    "mod2 = Model()\n",
    "\n",
    "# CREATING VARIABLES\n",
    "vars = {}\n",
    "for i in range(len(dj_dist_matrix)):\n",
    "    for j in range(i+1):\n",
    "        vars[i,j] = mod2.addVar(obj=dj_dist_matrix[i,j], vtype=GRB.BINARY, name='e'+str(i)+'_'+str(j))\n",
    "        vars[j,i] = vars[i,j]\n",
    "    mod2.update()\n",
    "\n",
    "# ADDING DEGREE-2 CONSTRAINTS AND FORBIDDING LOOPS\n",
    "for i in range(len(dj_dist_matrix)):\n",
    "    mod2.addConstr(quicksum(vars[i,j] for j in range(len(dj_dist_matrix))) == 2)\n",
    "    vars[i,i].ub = 0\n",
    "mod2.update()\n",
    "\n",
    "# OPTIMIZING THE MODEL\n",
    "mod2._vars = vars\n",
    "mod2.params.LazyConstraints = 1\n",
    "mod2.optimize(subtourelim)\n",
    "\n",
    "# GETTING SELECTED NODES FROM THE SOLUTION\n",
    "solution = mod2.getAttr('x', vars) # producing list of solutions\n",
    "selected_nodes = [(i,j) for i in range(len(dj_dist_matrix)) for j in range(len(dj_dist_matrix)) if solution[i,j] > 0.5] #producing list of selected nodes from the solutions"
   ]
  },
  {
   "cell_type": "markdown",
   "metadata": {},
   "source": [
    "d. Plot the resulting tour on the scatter plot"
   ]
  },
  {
   "cell_type": "code",
   "execution_count": null,
   "metadata": {
    "collapsed": true
   },
   "outputs": [],
   "source": [
    "# PLOTTING THE TRAVELLING SALESMAN TOUR ON GRAPH\n",
    "\n",
    "# converting selected nodes to a list\n",
    "selected_nodes_graph = selected_nodes\n",
    "for i in range(len(selected_nodes_graph)):\n",
    "    selected_nodes_graph[i] = list(selected_nodes_graph[i])\n",
    "\n",
    "# CREATING EDGES TO PLOT\n",
    "# creating a pandas dataframe of the distance matrix\n",
    "dj_df2 = pd.DataFrame(dj_dist_matrix)\n",
    "# creating a pandas dataframe of the distance matrix\n",
    "edges_tsp = dj_df2.stack().reset_index()\n",
    "edges_tsp.columns = ['node1', 'node2','weight']\n",
    "\n",
    "# PLOTTING THE GRAPH\n",
    "# building the graph\n",
    "dj_G_tsp =nx.from_pandas_dataframe(edges_tsp, 'node1', 'node2')\n",
    "# adding nodes and edges to the graph\n",
    "plt.figure(figsize=(12,12))\n",
    "nx.draw_networkx_nodes(dj_G_tsp, with_labels = True, node_size = 100, font_size = 8, pos=cities_dict)\n",
    "nx.draw_networkx_edges(dj_G_tsp, pos=cities_dict, edgelist = selected_nodes_graph)"
   ]
  },
  {
   "cell_type": "code",
   "execution_count": null,
   "metadata": {
    "collapsed": true
   },
   "outputs": [],
   "source": [
    "# CREATING THE TRAVELLING SALESMAN TOUR ON DJIBOUTI MAP\n",
    "# setting size of the map\n",
    "plt.figure(figsize=(12,12))\n",
    "# using imageservice for a 'better' graph\n",
    "dj_tsp_map = Basemap(llcrnrlon=41.75, llcrnrlat=10.94, urcrnrlon=43.4, urcrnrlat=12.72, epsg=4713)\n",
    "dj_tsp_map.arcgisimage(service='ESRI_Imagery_World_2D', xpixels = 2000, verbose= False)\n",
    "# assigning X & Y co-ordinates for plotting on the map\n",
    "x, y = dj_tsp_map(dj_tsp_df['longitude'].values, dj_tsp_df['latitude'].values)\n",
    "# looping thru the edges to be displayed\n",
    "for n in range (len(selected_nodes)):\n",
    "    if selected_nodes[n][0] < selected_nodes[n][1]:\n",
    "        node1 = selected_nodes[n][0]\n",
    "        node2 = selected_nodes[n][1]\n",
    "        dj_tsp_map.drawgreatcircle(dj_tsp_df['longitude'][node1], dj_tsp_df['latitude'][node1],\n",
    "                                   dj_tsp_df['longitude'][node2], dj_tsp_df['latitude'][node2],\n",
    "                                   linewidth = 2,color = 'r')\n",
    "# creating a scatter plot\n",
    "dj_tsp_map.scatter(x, y, s=100, edgecolor='black', marker = 'o', color = 'r')\n",
    "# labels = [left,right,top,bottom]\n",
    "dj_tsp_map.drawparallels(parallels,labels=[True,True,True,True])\n",
    "dj_tsp_map.drawmeridians(meridians,labels=[True,True,True,True])\n",
    "plt.show()"
   ]
  },
  {
   "cell_type": "code",
   "execution_count": null,
   "metadata": {
    "collapsed": true
   },
   "outputs": [],
   "source": [
    "# PRINTING THE SEQUENCE OF NODES OF THE TSP TOUR\n",
    "tsp_tour = [0]\n",
    "k = 0\n",
    "while k < (len(selected_nodes)/2 - 1):\n",
    "    for n in range(len(selected_nodes)):\n",
    "        if (selected_nodes[n][0] == tsp_tour[-1] and selected_nodes[n][1] not in tsp_tour):\n",
    "            tsp_tour.append(selected_nodes[n][1])\n",
    "            k += 1  \n",
    "print(tsp_tour)"
   ]
  }
 ],
 "metadata": {
  "kernelspec": {
   "display_name": "Python 3",
   "language": "python",
   "name": "python3"
  },
  "language_info": {
   "codemirror_mode": {
    "name": "ipython",
    "version": 3
   },
   "file_extension": ".py",
   "mimetype": "text/x-python",
   "name": "python",
   "nbconvert_exporter": "python",
   "pygments_lexer": "ipython3",
   "version": "3.6.0"
  }
 },
 "nbformat": 4,
 "nbformat_minor": 2
}
