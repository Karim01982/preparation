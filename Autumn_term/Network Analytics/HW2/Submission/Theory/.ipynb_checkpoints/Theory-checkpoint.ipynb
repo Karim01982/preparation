{
 "cells": [
  {
   "cell_type": "markdown",
   "metadata": {},
   "source": [
    "# Network Analytics Homework 2 - Theory\n",
    "\n",
    "Group G: Joanna Andari, Karim Awad, Jiye Ren, Nirbhay Sharma, Qiuyue Zhang, Xiaoyan Zhou"
   ]
  },
  {
   "cell_type": "markdown",
   "metadata": {},
   "source": [
    "1.(5 points) Show that the greedy algorithm works in finding the optimal (min or max) weighted spanning tree. i.e., you have to show (a) it terminates in finite time---better if you can show polynomial time (b) the tree that it finds is an optimal tree."
   ]
  },
  {
   "cell_type": "markdown",
   "metadata": {},
   "source": [
    "A tree is an undirected graph that is connected and acyclic. This graph with $n$ nodes has $n-1$ edges and is characterized by having a unique path between any pair of nodes on the tree. A spanning tree of an undirected graph $G$ is a subset of the graph’s edges that form a tree containing (spanning) all nodes. \n",
    "The optimal min/max spanning tree could be found using the naïve algorithm which consists of checking all possible spanning trees in a graph. However, if we have n nodes there are $2^n$ possible spanning trees thus the algorithm has an exponential running time. \n",
    "\n",
    "Another alternative for finding the min/max spanning tree is through a greedy algorithm (such as Prim’s or Kruskal algorithms). A greedy algorithm consists of picking up the next best solution while maintaining feasibility. In other words, it works in finding the next best local choice with the hope of finding the global optimum. \n",
    "In the case of finding the optimal spanning tree, the greedy algorithm is the best approach as it does not only find the local best solution but gives as well a global optimal solution. This can be shown by the cut property which indicates that in any cut $(S, V-S)$ in a graph $G$, any least weight crossing edge (for a min case) such as edge e incident to nodes $u$ and $v$ with $u \\in S$ and$ V \\notin S$ is in some minimum spanning tree of graph $G$. This can be proven as follows:\n",
    "Consider a minimum spanning tree $T$ of $G$ where $e$ is not in $T$ and has a path between nodes $u$ and $v$. Another minimum spanning tree $T’$ that contains edge e is constructed based on the previous tree $T$.  Since $T$  has a already unique path between u and $v$  we cannot add edge $e$ to $T$ as it creates a cycle (tree should be acyclic). Thus, we assume that there is another edge e’ that connect the cut to T. Thus, for T’ we would have\n",
    " $T'=T∪\\{e\\}-\\{e'\\}$and weight $(T’) =$ Weight $(T) + W(e) – W(e’)$.  Since e is the lowest edge then the weight of T’  is less than the weight of $T$.  Thus, if T is a minimum spanning tree then $T’ =T$ and $W(e) = W(e’)$ proving that T’ is also an MST where the least weight crossing edge is chosen (this can also be shown with a maximum spanning tree taking the highest weight crossing edge). \n",
    "\n",
    "Both Prim’s and Kruskal are based on the cut property to find the min/max spanning tree. The Prim’s algorithm adds edges that have the lowest/highest weight to gradually build up the spanning tree.  In other words, at every step, we need to find a cut and select the lowest/highest weight edge and include it in an empty set containing the spanning tree. This algorithm is very similar to Djikstra as it uses also a priority queue to find the lowest/highest edge and has a running time depending on the type of priority queue used.  A running time of $O (V^2)$ using an array priority queue. This running time is enhanced by using a binary heap and adjacency data structure with a running time of $O(E log V)$ with E for edges and V for vertex. \n",
    "The Kruskal’s algorithm is another approach to solve the min/max spanning tree problem but starts with the globally lowest / highest weight edge where we repeatedly add to the empty set the next lightest/heavier edge that does not produce a cycle. Sorting of the edges in this algorithm has a total running time of $O (E log E)$. After sorting of the edges, we need to iterate through all edges and apply the union and find operations with a running time of $2E·T(Find)+V·T(Union) = O((E+V)log V) = O(E log V)$\n",
    "Thus, the total running time is $O (E log E)$ or $O (E log V)$ which are similar. This running time can be also improved by using a randomized algorithm for minimum cut. \n",
    "\n",
    "#### References:\n",
    "\n",
    "Massachusetts Institute of Technology. (2015). Lecture 12: Greedy Algorithms and Minimum Spanning Tre. Spring Lecture 1[online]. Available at: https://ocw.mit.edu/courses/electrical-engineering-and-computer-science/6-046j-design-and-analysis-of-algorithms-spring-2015/lecture-notes/MIT6_046JS15_writtenlec12.pdf [Accessed 2 Dec 2017].\n",
    "\n",
    "\n",
    "S Dasgupta, C.H. Papadimitriou, and U.V. Vazirani. Greedy Algorithms. P. 143 to 151. Available at : file:///C:/Users/Joanna%20Andari/AppData/Local/Packages/Microsoft.MicrosoftEdge_8wekyb3d8bbwe/TempState/Downloads/greedy.pdf     [Accessed 2 Dec 2017].\n"
   ]
  },
  {
   "cell_type": "markdown",
   "metadata": {},
   "source": [
    "2.(5 points)\n",
    "\n",
    "a. Formulate the problem of sending the maximum amount of flow on the following network (the edges have capacities as shown) as a linear program "
   ]
  },
  {
   "cell_type": "markdown",
   "metadata": {},
   "source": [
    "![image.png](attachment:image.png)"
   ]
  },
  {
   "cell_type": "markdown",
   "metadata": {},
   "source": [
    "The directed weighted graph consists of 7 nodes and 10 edges, to find the maximum flow of the directed graph, a linear programme can be formulated.\n",
    "\n",
    "Knowing that the each weighted edge represent the maximum allowed capacity of flow between each pair of nodes, the following capacity constraints can be formulated:\n",
    "\n",
    "<center>\n",
    "0≤Xsa≤5  \n",
    "\n",
    "0≤Xsb≤13  \n",
    "\n",
    "0≤Xsc≤3  \n",
    "\n",
    "0≤Xad≤3  \n",
    "\n",
    "0≤Xba≤7  \n",
    "\n",
    "0≤Xbc≤5  \n",
    "\n",
    "0≤Xbd≤2  \n",
    "\n",
    "0≤Xbe≤2  \n",
    "\n",
    "0≤Xce≤4  \n",
    "\n",
    "0≤Xed≤9  \n",
    "\n",
    "0≤Xet≤10  \n",
    "\n",
    "0≤Xdt≤5  \n",
    "</center >\n",
    "\n",
    "-Where for symbol “Xij” means the edge connecting nodes “I” and “j”, so “Xsa” means the edge(capacity) between node S and node A.\n",
    "\n",
    "Since the graph is a directed graph, for each node, the outgoing edge carries weights of negative values and incident edge carries weight of positive values. Thus, constraints have to be formulated to regulate the directions of flow:\n",
    "<center>\n",
    "Node S: \t\t\t\t\t\t -Xsc-Xsa-Xsb=-f</center>\n",
    "\n",
    "<center>Node A:\t\t\t\t\t\t Xsa+Xba-Xad=0</center>\n",
    "\n",
    "<center>Node B: \t\t\t\t\t\t Xsb-Xba-Xbc-Xbe-Xbd=0</center>\n",
    "\n",
    "<center>Node C: \t\t\t\t\t\t Xsc+Xbc-Xce=0</center>\n",
    "\n",
    "<center>Node D: \t\t\t\t\t\t Xab+Xbd+Xed-Xdt=0</center>\n",
    "\n",
    "<center>Node E:\t\t\t\t\t\t Xbe+Xce-Xed-Xet=0</center>\n",
    "\n",
    "<center>Node T: \t\t\t\t\t\t Xdt+Xet=f</center>\n",
    "\n",
    "-Symbol “f” refers to the total amount of flow exiting the source(node S) and entering the sink(node T).\n",
    "\n",
    "\n",
    "The final formulated linear programme aiming to find the maximum flow of the network is displayed below:\n",
    "\n",
    "Objective function:\n",
    "\n",
    "Max: |f|\n",
    "\n",
    "Subject to: \n",
    "\n",
    "<center>\n",
    "-Xsc-Xsa-Xsb=-f  \n",
    "\n",
    "Xsa+Xba-Xad=0  \n",
    "\n",
    "Xsb-Xba-Xbc-Xbe-Xbd=0  \n",
    "\n",
    "Xsc+Xbc-Xce=0  \n",
    "\n",
    "Xab+Xbd+Xed-Xdt=0  \n",
    "\n",
    "Xbe+Xce-Xed-Xet=0  \n",
    "\n",
    "Xdt+Xet=f  \n",
    "\n",
    "0≤Xsa≤5  \n",
    "\n",
    "0≤Xsb≤13  \n",
    "\n",
    "0≤Xsc≤3  \n",
    "\n",
    "0≤Xad≤3  \n",
    "\n",
    "0≤Xba≤7  \n",
    "\n",
    "0≤Xbc≤5  \n",
    "\n",
    "0≤Xbd≤2  \n",
    "\n",
    "0≤Xbe≤2  \n",
    "\n",
    "0≤Xce≤4  \n",
    "\n",
    "0≤Xed≤9  \n",
    "\n",
    "0≤Xet≤10  \n",
    "\n",
    "0≤Xdt≤5  \n",
    "\n",
    "</center>"
   ]
  },
  {
   "cell_type": "markdown",
   "metadata": {},
   "source": [
    " b. Formulate the dual of the linear program as well."
   ]
  },
  {
   "cell_type": "markdown",
   "metadata": {},
   "source": [
    "The dual of a maximum flow problem would be a Max-flow min-cut problem, the primal problem is the maximisation of flow, and the dual problem would give the results as the minimum capacity of a cut that separates a network into two disjoint sets, which means the results of the dual problem gives a series of edges with minimum weight compare to other possible cuts.\n",
    "\n",
    "The dual problem of part a) can be expressed as to minimise$\\sum_{u,v \\in E}c_{uv}X_{uv}$ which is the sum of the product of multiplication between the capacity of every edge $C_{uv}$ and binary variable of all edges $X_{uv}$. $X_{uv}$ means the edge connecting node u and v, $X_{uv}$=1 if the cut consists of the edge between node u, v, and $X_{uv}=0 $ otherwise. Cuv means the maximum capacity of edge between node u and v. \n",
    "\n",
    "Knowing the graph is still directed after the cut but nodes would belong to different sets, thus, binary variables are used to find the optimal location of nodes, for example, if node s is in the set S, binary variable $P_s$would equal to 1, if node s is in set T, $P_s=0$.\n",
    "\n",
    "the following constraints for each edge and node will be formulated:  \n",
    "\n",
    "<center>  \n",
    "State binary variable:\t\t\t    Ps-Pt≥1  \n",
    "Edge SA:\t\t\t\t\t\t\tXsa-Ps+Pa≥0  \n",
    "Edge SB:\t\t\t\t\t\t\tXsb-Ps+Pb≥0  \n",
    "Edge SC:\t\t\t\t\t\t\tXsc-Ps+Pc≥0  \n",
    "Edge AD:\t\t\t\t\t\t\tXad-Pa+Pd≥0  \n",
    "Edge BA:\t\t\t\t\t\t\tXba-Pb+Pa≥0  \n",
    "Edge BC:\t\t\t\t\t\t\tXbc-Pb+Pc≥0  \n",
    "Edge AD:\t\t\t\t\t\t\tXbd-Pb+Pd≥0  \n",
    "Edge BE:\t\t\t\t\t\t\tXbe-Pb+Pe≥0  \n",
    "Edge CE:\t\t\t\t\t\t\tXce-Pc+Pe≥0  \n",
    "Edge DE:\t\t\t\t\t\t\tXdt-Pd+Pt≥0  \n",
    "Edge ED:\t\t\t\t\t\t\tXed-Pe+Pd≥0  \n",
    "Edge ET:\t\t\t\t\t\t\tXet-Pe+Pt≥0 <\\center> \n",
    "\n",
    "The final formulated dual linear programme is displayed below.  \n",
    "\n",
    "Minimise:  \n",
    "\n",
    "<center>\n",
    "5Xsa+13Xsb+3Xsc+3Xad+7Xba+5Xbc+2Xbd+2Xbe+4Xce+5Xdt+9Xed+10Xet<\\center>  \n",
    "\n",
    "Subject to:  \n",
    "<center>\n",
    "Xsa-Ps+Pa≥0  \n",
    "Xsb-Ps+Pb≥0  \n",
    "Xsc-Ps+Pc≥0  \n",
    "Xad-Pa+Pd≥0  \n",
    "Xba-Pb+Pa≥0  \n",
    "Xbc-Pb+Pc≥0  \n",
    "Xbd-Pb+Pd≥0  \n",
    "Xbe-Pb+Pe≥0  \n",
    "Xce-Pc+Pe≥0  \n",
    "Xdt-Pd+Pt≥0  \n",
    "Xed-Pe+Pd≥0  \n",
    "Xet-Pe+Pt≥0  \n",
    "Ps-Pt≥1\n"
   ]
  },
  {
   "cell_type": "markdown",
   "metadata": {},
   "source": [
    "c. Solve using a linear programming solver (say Excel)"
   ]
  },
  {
   "cell_type": "markdown",
   "metadata": {},
   "source": [
    "Answer:  \n",
    "\n",
    "Excel is used as a linear programing solver and the above objective function along with all the constraints have been solved:  \n",
    "\n",
    "Linear optimization of part a)"
   ]
  },
  {
   "cell_type": "markdown",
   "metadata": {},
   "source": [
    "![image.png](attachment:image.png)"
   ]
  },
  {
   "cell_type": "markdown",
   "metadata": {},
   "source": [
    "Linear optimization of part b)"
   ]
  },
  {
   "cell_type": "markdown",
   "metadata": {},
   "source": [
    "![image.png](attachment:image.png)"
   ]
  },
  {
   "cell_type": "markdown",
   "metadata": {},
   "source": [
    "The output of the maximized flow is $|f|=11$.\n",
    "The minimised cut have a capacity of 11, which equals to the maximum flow, the cut disjoints the graph into two separate sets of nodes: set $S$ and set $T$ (where node $s$ is in set $S$ and node $t$ is in set $T$), and the linear model of dual problem suggests the set $S$ consists node $s, a, b,$ and $c$. \n"
   ]
  },
  {
   "cell_type": "markdown",
   "metadata": {},
   "source": [
    "d. From the dual values (i.e. the shadow prices) of the linear program corresponding to the optimal extreme point (basic feasible) solution, find a minimum-capacity cut. "
   ]
  },
  {
   "cell_type": "markdown",
   "metadata": {},
   "source": [
    "As mentioned in part b) and part c), by solving the dual of maximum-flow linear programme, the minimum capacity of cut can be obtained. \n",
    "\n",
    "Knowing a cut s-t separates graph into disjoint sets $S$ and $T$ with node $s$ in $S$ and node $t$ in $T$, and nodes in $S$ and nodes in $T$ do not include each other. \n",
    "\n",
    "The capacity of the cut,$Cap(S,T)$ means the sum of the capacities from $S$ to $T$, and the minimised capacity of the cut can be obtained from the optimal dual value, and $Cap(S,T)=11$, which equals to the maximum flow in part a) of the question. By setting edges and nodes as binary variables, the results of linear model implies that the minimised capacity of the cut consists of edges $AD, BD, BE,$ and $CE$ (as illustrated in dotted line in the following pitcure, set S consists of nodes $s, a, b$, and $c$.\n"
   ]
  },
  {
   "cell_type": "markdown",
   "metadata": {},
   "source": [
    "![image.png](attachment:image.png)"
   ]
  }
 ],
 "metadata": {
  "kernelspec": {
   "display_name": "Python 3",
   "language": "python",
   "name": "python3"
  },
  "language_info": {
   "codemirror_mode": {
    "name": "ipython",
    "version": 3
   },
   "file_extension": ".py",
   "mimetype": "text/x-python",
   "name": "python",
   "nbconvert_exporter": "python",
   "pygments_lexer": "ipython3",
   "version": "3.6.0"
  }
 },
 "nbformat": 4,
 "nbformat_minor": 2
}
