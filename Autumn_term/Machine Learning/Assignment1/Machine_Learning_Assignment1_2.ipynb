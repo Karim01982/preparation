{
 "cells": [
  {
   "cell_type": "markdown",
   "metadata": {},
   "source": [
    "# Machine Learning Assignment 1 Question 2 Python Version"
   ]
  },
  {
   "cell_type": "raw",
   "metadata": {},
   "source": [
    "(b) Build a k-Nearest Neighbours classifier in Python for “wine_quality-red.csv”"
   ]
  },
  {
   "cell_type": "code",
   "execution_count": 1,
   "metadata": {
    "collapsed": false
   },
   "outputs": [
    {
     "name": "stderr",
     "output_type": "stream",
     "text": [
      "//anaconda/lib/python3.6/site-packages/sklearn/cross_validation.py:41: DeprecationWarning: This module was deprecated in version 0.18 in favor of the model_selection module into which all the refactored classes and functions are moved. Also note that the interface of the new CV iterators are different from that of this module. This module will be removed in 0.20.\n",
      "  \"This module will be removed in 0.20.\", DeprecationWarning)\n"
     ]
    }
   ],
   "source": [
    "import pandas as pd\n",
    "import numpy as np\n",
    "from sklearn.utils import shuffle\n",
    "from sklearn.preprocessing import StandardScaler\n",
    "from sklearn.neighbors import KNeighborsClassifier\n",
    "from sklearn.cross_validation import cross_val_score\n",
    "from sklearn.metrics import classification_report \n",
    "from sklearn.metrics import confusion_matrix "
   ]
  },
  {
   "cell_type": "raw",
   "metadata": {},
   "source": [
    "1. loads the data file;"
   ]
  },
  {
   "cell_type": "code",
   "execution_count": 2,
   "metadata": {
    "collapsed": false
   },
   "outputs": [],
   "source": [
    "wine_quality = pd.read_csv('/Users/Veronique/Desktop/ICBA/Nov_Dec Term/Machine Learning/Assignment/Assignment1/GroupWork_Data/winequality-red.csv',\n",
    "                          sep = ';')"
   ]
  },
  {
   "cell_type": "raw",
   "metadata": {},
   "source": [
    "2. construct a new binary column “good wine” that indicates whether the wine is good (which we define as having a quality of 6 or higher) or not;"
   ]
  },
  {
   "cell_type": "code",
   "execution_count": 3,
   "metadata": {
    "collapsed": false
   },
   "outputs": [],
   "source": [
    "def decide_good_wine(x):\n",
    "    if x >= 6:\n",
    "        return 1\n",
    "    else:\n",
    "        return 0\n",
    "# good_wine = 1: it is good wine (quality >= 6)\n",
    "wine_quality['good_wine'] = wine_quality.quality.apply(decide_good_wine)"
   ]
  },
  {
   "cell_type": "raw",
   "metadata": {},
   "source": [
    "3. splits the data set into a training data set (~50%) and a test data set (~50%) — make sure you shuffle the record before the split;"
   ]
  },
  {
   "cell_type": "code",
   "execution_count": 11,
   "metadata": {
    "collapsed": true
   },
   "outputs": [],
   "source": [
    "random_seed = 100\n",
    "wine_quality_shuffled = shuffle(wine_quality, random_state = random_seed)\n",
    "training_set = wine_quality_shuffled[0:round(len(wine_quality_shuffled.axes[0])/2)]\n",
    "test_set = wine_quality_shuffled[round(len(wine_quality_shuffled.axes[0])/2):len(wine_quality_shuffled.axes[0])]"
   ]
  },
  {
   "cell_type": "raw",
   "metadata": {},
   "source": [
    "4. normalises the data according to the Z-score transform;"
   ]
  },
  {
   "cell_type": "code",
   "execution_count": 12,
   "metadata": {
    "collapsed": false
   },
   "outputs": [],
   "source": [
    "wine_mean_training = np.mean(training_set.iloc[:, 0:11], axis=0)\n",
    "wine_std_training = np.std(training_set.iloc[:, 0:11], axis=0)\n",
    "training_set_normal = pd.DataFrame()\n",
    "for i in list(range(11)):\n",
    "    ap = ((training_set.iloc[:, i] - np.array(np.zeros(len(training_set.axes[0])) + wine_mean_training[i])) / np.array(np.zeros(len(training_set.axes[0])) + wine_std_training[i]))\n",
    "    training_set_normal = pd.concat([training_set_normal, ap], axis = 1)\n",
    "training_set_normal = pd.concat([training_set_normal, training_set.iloc[:, 11:13]], axis = 1)"
   ]
  },
  {
   "cell_type": "raw",
   "metadata": {},
   "source": [
    "5. loads and trains the k-Nearest Neighbours classifiers for k = 1, 6, 11, 16, ..., 500;"
   ]
  },
  {
   "cell_type": "code",
   "execution_count": 13,
   "metadata": {
    "collapsed": false
   },
   "outputs": [],
   "source": [
    "KNN_wine_classifier = []\n",
    "for i in list(range(1, 500, 5)):\n",
    "    KNN_wine_classifier.append(KNeighborsClassifier(n_neighbors = i))"
   ]
  },
  {
   "cell_type": "raw",
   "metadata": {},
   "source": [
    "6. evaluates each classifier using 5-fold cross validation and selects the best classifier;"
   ]
  },
  {
   "cell_type": "code",
   "execution_count": 15,
   "metadata": {
    "collapsed": false
   },
   "outputs": [
    {
     "name": "stdout",
     "output_type": "stream",
     "text": [
      "The best performed classifier (with random seed set as 100) is the 51th classifier, with an average validation score of 0.749980370327.\n"
     ]
    }
   ],
   "source": [
    "scores = list()\n",
    "for i in list(range(len(KNN_wine_classifier))):\n",
    "    scores.append(list(cross_val_score(KNN_wine_classifier[i], training_set_normal.iloc[:, 0:11], training_set_normal.iloc[:, 12], cv = 5)))\n",
    "# select the classifier with the higherest average score on the five folds\n",
    "avg_scores = [sum(scores[i])/5 for i in list(range(len(scores)))]\n",
    "max_score = max(avg_scores)\n",
    "max_score_pos = np.argmax(avg_scores)\n",
    "print('The best performed classifier (with random seed set as ' + str(random_seed) + ') is the ' + str(max_score_pos + 1) + 'th' + ' classifier, with an average validation score of ' + str(max_score) + '.')"
   ]
  },
  {
   "cell_type": "raw",
   "metadata": {},
   "source": [
    "7. predicts the generalisation error using the test data set, as well as outputs the result in a confusion matrix."
   ]
  },
  {
   "cell_type": "code",
   "execution_count": 9,
   "metadata": {
    "collapsed": false
   },
   "outputs": [
    {
     "name": "stdout",
     "output_type": "stream",
     "text": [
      "Classification Report\n",
      "               precision    recall  f1-score   support\n",
      "\n",
      "Not good wine       0.49      0.86      0.63       365\n",
      "    Good wine       0.69      0.25      0.37       434\n",
      "\n",
      "  avg / total       0.60      0.53      0.49       799\n",
      "\n",
      "Confusion Matrix\n",
      "[[315  50]\n",
      " [325 109]]\n"
     ]
    }
   ],
   "source": [
    "# train this classifier again using all data (here the training_set_normal)\n",
    "KNN_wine_classifier[max_score_pos].fit(training_set_normal.iloc[:, 0:11], training_set_normal.iloc[:, 12])\n",
    "\n",
    "# normalise test_set (seperate from training_set)\n",
    "wine_mean_test = np.mean(test_set.iloc[:, 0:11], axis=0)\n",
    "wine_std_test = np.std(test_set.iloc[:, 0:11], axis=0)\n",
    "test_set_normal = pd.DataFrame()\n",
    "for i in list(range(11)):\n",
    "    ap = ((test_set.iloc[:, i] - np.array(np.zeros(len(test_set.axes[0])) + wine_mean_test[i])) / np.array(np.zeros(len(test_set.axes[0])) + wine_std_test[i]))\n",
    "    test_set_normal = pd.concat([test_set_normal, ap], axis = 1)\n",
    "test_set_normal = pd.concat([test_set_normal, test_set.iloc[:, 11:13]], axis = 1)\n",
    "\n",
    "# prediction\n",
    "test_score = KNN_wine_classifier[max_score_pos].predict(test_set.iloc[:, 0:11])\n",
    "print('Classification Report')\n",
    "print(classification_report(y_true = test_set_normal.iloc[:, 12],\n",
    "                            y_pred = test_score,\n",
    "                            target_names = ['Not good wine', 'Good wine']))\n",
    "print('Confusion Matrix')\n",
    "print(confusion_matrix(y_true = test_set_normal.iloc[:, 12],\n",
    "                       y_pred = test_score))"
   ]
  },
  {
   "cell_type": "raw",
   "metadata": {},
   "source": [
    "Q: How do you judge whether the classifier is well-suited for the data set?\n",
    "A: "
   ]
  }
 ],
 "metadata": {
  "kernelspec": {
   "display_name": "Python 3",
   "language": "python",
   "name": "python3"
  },
  "language_info": {
   "codemirror_mode": {
    "name": "ipython",
    "version": 3
   },
   "file_extension": ".py",
   "mimetype": "text/x-python",
   "name": "python",
   "nbconvert_exporter": "python",
   "pygments_lexer": "ipython3",
   "version": "3.6.0"
  }
 },
 "nbformat": 4,
 "nbformat_minor": 2
}
